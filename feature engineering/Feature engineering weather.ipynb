{
 "cells": [
  {
   "cell_type": "markdown",
   "metadata": {},
   "source": [
    "# Adding Weather features \n"
   ]
  },
  {
   "cell_type": "code",
   "execution_count": 7,
   "metadata": {},
   "outputs": [],
   "source": [
    "import pandas as pd"
   ]
  },
  {
   "cell_type": "markdown",
   "metadata": {},
   "source": [
    "source : https://www.visualcrossing.com/weather/weather-data-services"
   ]
  },
  {
   "cell_type": "markdown",
   "metadata": {},
   "source": [
    "Using the postcode supplied in the data, and finding the longitude/latitude values of the location in Germany, I could find from the website above the following data for 1000 days in the data period,\n",
    "\n",
    "tempmax,tempmin, temp, precip, snowdepth, windspeedmean, solarenergy"
   ]
  },
  {
   "cell_type": "code",
   "execution_count": 8,
   "metadata": {},
   "outputs": [],
   "source": [
    "df = pd.read_pickle('../data/dropped_columns_rm_outliers.pkl')\n",
    "weather_data = pd.read_csv('../data/51.3585, 12.6286 2021-02-08 to 2023-11-04.csv')"
   ]
  },
  {
   "cell_type": "code",
   "execution_count": 9,
   "metadata": {},
   "outputs": [],
   "source": [
    "weather_data['datetime'] = pd.to_datetime(weather_data['datetime'])\n",
    "df['DateTime'] = pd.to_datetime(df['DateTime'])\n",
    "df['date'] = df['DateTime'].dt.date\n",
    "weather_data['date'] = weather_data['datetime'].dt.date"
   ]
  },
  {
   "cell_type": "markdown",
   "metadata": {},
   "source": [
    "Below I have left merged the weather data on the energy demand data (ie for every date in the weather data, if it matches a date in the energy demand data, then those values are added to the energy data df)"
   ]
  },
  {
   "cell_type": "code",
   "execution_count": 10,
   "metadata": {},
   "outputs": [],
   "source": [
    "\n",
    "df_merged = pd.merge(df, weather_data.drop(columns=['datetime']), on='date', how='left')\n"
   ]
  },
  {
   "cell_type": "code",
   "execution_count": null,
   "metadata": {},
   "outputs": [],
   "source": [
    "df_merged.head()"
   ]
  },
  {
   "cell_type": "code",
   "execution_count": 12,
   "metadata": {},
   "outputs": [],
   "source": [
    "df_merged.to_pickle('../data/dropped_columns_and_weather.pkl')"
   ]
  }
 ],
 "metadata": {
  "kernelspec": {
   "display_name": ".venv",
   "language": "python",
   "name": "python3"
  },
  "language_info": {
   "codemirror_mode": {
    "name": "ipython",
    "version": 3
   },
   "file_extension": ".py",
   "mimetype": "text/x-python",
   "name": "python",
   "nbconvert_exporter": "python",
   "pygments_lexer": "ipython3",
   "version": "3.9.6"
  }
 },
 "nbformat": 4,
 "nbformat_minor": 2
}
