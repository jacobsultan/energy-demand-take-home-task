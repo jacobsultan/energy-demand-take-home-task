{
 "cells": [
  {
   "cell_type": "markdown",
   "metadata": {},
   "source": [
    "moving low numbers down to 0 seems to help"
   ]
  },
  {
   "cell_type": "markdown",
   "metadata": {},
   "source": [
    "remove uninmportant parameters"
   ]
  },
  {
   "cell_type": "code",
   "execution_count": 1,
   "metadata": {},
   "outputs": [],
   "source": [
    "import pandas as pd\n",
    "import numpy as np\n",
    "from xgboost import XGBRegressor\n",
    "from sklearn.metrics import mean_absolute_error, mean_squared_error\n",
    "import matplotlib.pyplot as plt\n",
    "\n",
    "from XGBoost_model_testing import model_testing_xgboost\n",
    "from plot_predictions import plot_predictions\n",
    "from rmses import rmse_evaluator"
   ]
  },
  {
   "cell_type": "markdown",
   "metadata": {},
   "source": [
    "Dataframes have the final value removed as this is for the prediction"
   ]
  },
  {
   "cell_type": "code",
   "execution_count": 2,
   "metadata": {},
   "outputs": [],
   "source": [
    "df = pd.read_pickle('../data/fe_temp_data.pkl')\n",
    "df = df.iloc[:len(df)-1]\n",
    "df_cyclic = pd.read_pickle('../data/fe_temp_cyclic_data.pkl')\n",
    "df_cyclic = df_cyclic.iloc[:len(df_cyclic)-1]\n"
   ]
  },
  {
   "cell_type": "code",
   "execution_count": 3,
   "metadata": {},
   "outputs": [],
   "source": [
    "test_dates = [\n",
    "        '2023-02-12 21:00',\n",
    "        '2023-02-07 11:00',\n",
    "        '2023-04-15 08:00',\n",
    "        '2023-04-15 16:00'\n",
    "    ]"
   ]
  },
  {
   "cell_type": "code",
   "execution_count": 4,
   "metadata": {},
   "outputs": [],
   "source": [
    "df_features = ['tempmax', 'tempmin', 'temp', 'precip',\n",
    "       'snow', 'snowdepth', 'windspeedmean', 'solarenergy', 'year', 'quarter',\n",
    "       'month', 'day_of_year', 'day_of_month', 'day_of_week', 'hour', 'minute',\n",
    "       'time', 'minute_of_day', 'sum_3min', 'sum_5min', 'sum_10min',\n",
    "       'sum_15min', 'sum_20min', 'sum_30min', 'sum_45min', 'sum_1h', 'sum_24h',\n",
    "       'rolling_mean_30min', 'rolling_std_30min', 'rolling_mean_1h',\n",
    "       'rolling_std_1h', 'rolling_mean_24h', 'rolling_std_24h',\n",
    "       'rolling_min_24h', 'rolling_max_24h']\n",
    "\n",
    "df_cyclic_features = ['tempmax', 'tempmin', 'temp', 'precip',\n",
    "       'snow', 'snowdepth', 'windspeedmean', 'solarenergy', 'year',\n",
    "       'sum_3min', 'sum_5min', 'sum_10min', 'sum_15min', 'sum_20min',\n",
    "       'sum_30min', 'sum_45min', 'sum_1h', 'sum_24h', 'rolling_mean_30min',\n",
    "       'rolling_std_30min', 'rolling_mean_1h', 'rolling_std_1h',\n",
    "       'rolling_mean_24h', 'rolling_std_24h', 'rolling_min_24h',\n",
    "       'rolling_max_24h', 'quarter_sin', 'quarter_cos', 'day_of_month_sin',\n",
    "       'day_of_month_cos', 'hour_sin', 'hour_cos', 'minute_of_day_sin',\n",
    "       'minute_of_day_cos', 'minute_sin', 'minute_cos', 'month_sin',\n",
    "       'month_cos', 'day_of_year_sin', 'day_of_year_cos', 'day_of_week_sin',\n",
    "       'day_of_week_cos']"
   ]
  },
  {
   "cell_type": "code",
   "execution_count": 5,
   "metadata": {},
   "outputs": [],
   "source": [
    "X = df[df_features]\n",
    "y = df['demand']\n",
    "\n",
    "X_cyclic = df_cyclic[df_cyclic_features]\n",
    "y_cyclic = df_cyclic['demand']"
   ]
  },
  {
   "cell_type": "code",
   "execution_count": 6,
   "metadata": {},
   "outputs": [],
   "source": [
    "def train_split(X,y):\n",
    "    train_size = int(len(X) * 0.8)\n",
    "    X_train, X_test = X[:train_size], X[train_size:]\n",
    "    y_train, y_test = y[:train_size], y[train_size:]\n",
    "\n",
    "    non_numeric_columns = X_train.select_dtypes(include=['object']).columns\n",
    "    X_train = X_train.drop(columns=non_numeric_columns)\n",
    "    X_test = X_test.drop(columns=non_numeric_columns)\n",
    "    return X_train, X_test, y_train, y_test"
   ]
  },
  {
   "cell_type": "code",
   "execution_count": 7,
   "metadata": {},
   "outputs": [],
   "source": [
    "X_train,X_test,y_train,y_test = train_split(X,y)\n",
    "xgb_model = XGBRegressor(n_estimators=100, learning_rate=0.1, max_depth=5, random_state=42)\n",
    "xgb_model.fit(X_train, y_train)\n",
    "y_pred = xgb_model.predict(X_test)"
   ]
  },
  {
   "cell_type": "code",
   "execution_count": null,
   "metadata": {},
   "outputs": [],
   "source": [
    "importances = xgb_model.feature_importances_\n",
    "sorted_idx = np.argsort(importances)[::-1]\n",
    "top_10_idx = sorted_idx[:10]\n",
    "\n",
    "plt.figure(figsize=(10, 6))\n",
    "plt.barh(range(len(top_10_idx)), importances[top_10_idx])\n",
    "plt.yticks(range(len(top_10_idx)), [X_train.columns[i] for i in top_10_idx])\n",
    "plt.title(\"Top 10 XGBoost Feature Importance\")\n",
    "plt.gca().invert_yaxis()\n",
    "plt.show()"
   ]
  },
  {
   "cell_type": "code",
   "execution_count": null,
   "metadata": {},
   "outputs": [],
   "source": [
    "mae = mean_absolute_error(y_test, y_pred)\n",
    "rmse = np.sqrt(mean_squared_error(y_test, y_pred))\n",
    "\n",
    "print(f\"mae: {mae}\")\n",
    "print(f\"rmse: {rmse}\")\n",
    "\n",
    "plt.figure(figsize=(10, 6))\n",
    "plt.plot(y_test.values, label='Actual')\n",
    "plt.plot(y_pred, label='Predicted')\n",
    "plt.legend()\n",
    "plt.title('XGBoost Actual vs Predicted')\n",
    "plt.show()"
   ]
  },
  {
   "cell_type": "code",
   "execution_count": 10,
   "metadata": {},
   "outputs": [],
   "source": [
    "X_train,X_test,y_train,y_test = train_split(X_cyclic,y_cyclic)\n",
    "xgb_model = XGBRegressor(n_estimators=100, learning_rate=0.1, max_depth=5, random_state=42)\n",
    "xgb_model.fit(X_train, y_train)\n",
    "y_pred = xgb_model.predict(X_test)"
   ]
  },
  {
   "cell_type": "code",
   "execution_count": null,
   "metadata": {},
   "outputs": [],
   "source": [
    "importances = xgb_model.feature_importances_\n",
    "sorted_idx = np.argsort(importances)[::-1]\n",
    "top_10_idx = sorted_idx[:10]\n",
    "\n",
    "plt.figure(figsize=(10, 6))\n",
    "plt.barh(range(len(top_10_idx)), importances[top_10_idx])\n",
    "plt.yticks(range(len(top_10_idx)), [X_train.columns[i] for i in top_10_idx])\n",
    "plt.title(\"Top 10 XGBoost Feature Importance\")\n",
    "plt.gca().invert_yaxis()\n",
    "plt.show()"
   ]
  },
  {
   "cell_type": "code",
   "execution_count": null,
   "metadata": {},
   "outputs": [],
   "source": [
    "mae = mean_absolute_error(y_test, y_pred)\n",
    "rmse = np.sqrt(mean_squared_error(y_test, y_pred))\n",
    "\n",
    "print(f\"mae: {mae}\")\n",
    "print(f\"rmse: {rmse}\")\n",
    "\n",
    "plt.figure(figsize=(10, 6))\n",
    "plt.plot(y_test.values, label='Actual')\n",
    "plt.plot(y_pred, label='Predicted')\n",
    "plt.legend()\n",
    "plt.title('XGBoost Actual vs Predicted')\n",
    "plt.show()"
   ]
  }
 ],
 "metadata": {
  "kernelspec": {
   "display_name": ".venv",
   "language": "python",
   "name": "python3"
  },
  "language_info": {
   "codemirror_mode": {
    "name": "ipython",
    "version": 3
   },
   "file_extension": ".py",
   "mimetype": "text/x-python",
   "name": "python",
   "nbconvert_exporter": "python",
   "pygments_lexer": "ipython3",
   "version": "3.9.6"
  }
 },
 "nbformat": 4,
 "nbformat_minor": 2
}
