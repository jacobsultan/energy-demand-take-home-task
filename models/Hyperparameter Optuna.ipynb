{
 "cells": [
  {
   "cell_type": "code",
   "execution_count": null,
   "metadata": {},
   "outputs": [],
   "source": [
    "import optuna\n",
    "from xgboost import XGBRegressor\n",
    "from sklearn.metrics import mean_squared_error\n",
    "import pandas as pd\n",
    "import numpy as np"
   ]
  },
  {
   "cell_type": "markdown",
   "metadata": {},
   "source": [
    "We try with the dataset with the cyclic time periods, and a shortened one to see if that changes the hyper-paramaters"
   ]
  },
  {
   "cell_type": "code",
   "execution_count": 20,
   "metadata": {},
   "outputs": [],
   "source": [
    "df_cyclic = pd.read_pickle('../data/fe_temp_cyclic_data.pkl')\n",
    "df_cyclic_short = df_cyclic[df_cyclic.DateTime > '2022-09'].copy()"
   ]
  },
  {
   "cell_type": "code",
   "execution_count": null,
   "metadata": {},
   "outputs": [],
   "source": [
    "split_date = '2023-10-01' \n",
    "\n",
    "train_df = df_cyclic_short[df_cyclic_short['DateTime'] < split_date]\n",
    "test_df = df_cyclic_short[df_cyclic_short['DateTime'] >= split_date]\n",
    "\n",
    "# We need to remove the object type columns\n",
    "X_train = train_df.drop(columns=['demand','DateTime','date','time'])\n",
    "y_train = train_df['demand']\n",
    "\n",
    "X_test = test_df.drop(columns=['demand','DateTime','date','time'])\n",
    "y_test = test_df['demand']\n"
   ]
  },
  {
   "cell_type": "code",
   "execution_count": null,
   "metadata": {},
   "outputs": [],
   "source": [
    "def objective(trial):\n",
    "\n",
    "    # here is the paramaters ranges we're looking within\n",
    "    n_estimators = trial.suggest_int('n_estimators', 100, 1000)\n",
    "    learning_rate = trial.suggest_float('learning_rate', 0.01, 0.2)\n",
    "    max_depth = trial.suggest_int('max_depth', 3, 10)\n",
    "    subsample = trial.suggest_float('subsample', 0.7, 1.0)\n",
    "    colsample_bytree = trial.suggest_float('colsample_bytree', 0.7, 1.0)\n",
    "    gamma = trial.suggest_float('gamma', 0, 0.3)\n",
    "\n",
    "    xgb_model = XGBRegressor(\n",
    "        n_estimators=n_estimators,\n",
    "        learning_rate=learning_rate,\n",
    "        max_depth=max_depth,\n",
    "        subsample=subsample,\n",
    "        colsample_bytree=colsample_bytree,\n",
    "        gamma=gamma,\n",
    "        random_state=5\n",
    "    )\n",
    "    \n",
    "    xgb_model.fit(X_train, y_train)\n",
    "    \n",
    "    y_pred = xgb_model.predict(X_test)\n",
    "    rmse = np.sqrt(mean_squared_error(y_test, y_pred))\n",
    "    \n",
    "    return rmse\n",
    "\n",
    "study = optuna.create_study(direction='minimize')\n",
    "study.optimize(objective, n_trials=100)\n",
    "\n",
    "best_params = study.best_params\n",
    "print(f\"Best parameters found: {best_params}\")"
   ]
  },
  {
   "cell_type": "markdown",
   "metadata": {},
   "source": [
    "# with full time window"
   ]
  },
  {
   "cell_type": "markdown",
   "metadata": {},
   "source": [
    "[I 2024-09-11 10:40:34,266] Trial 44 finished with value: 0.11240548642264858 and parameters: {'n_estimators': 765, 'learning_rate': 0.09598085705977137, 'max_depth': 3, 'subsample': 0.740170271525394, 'colsample_bytree': 0.8993574574710597, 'gamma': 0.29477848229077347}. Best is trial 44 with value: 0.11240548642264858.\n"
   ]
  },
  {
   "cell_type": "markdown",
   "metadata": {},
   "source": [
    "Best parameters found: {'n_estimators': 765, 'learning_rate': 0.09598085705977137, 'max_depth': 3, 'subsample': 0.740170271525394, 'colsample_bytree': 0.8993574574710597, 'gamma': 0.29477848229077347}"
   ]
  },
  {
   "cell_type": "markdown",
   "metadata": {},
   "source": [
    "# with short time window"
   ]
  },
  {
   "cell_type": "markdown",
   "metadata": {},
   "source": [
    "[I 2024-09-11 11:02:35,078] Trial 83 finished with value: 0.11306882108061495 and parameters: {'n_estimators': 805, 'learning_rate': 0.0572210313213236, 'max_depth': 3, 'subsample': 0.7193063172814127, 'colsample_bytree': 0.9945420576187365, 'gamma': 0.20977825247196802}. Best is trial 83 with value: 0.11306882108061495.\n"
   ]
  },
  {
   "cell_type": "code",
   "execution_count": null,
   "metadata": {},
   "outputs": [],
   "source": []
  }
 ],
 "metadata": {
  "kernelspec": {
   "display_name": ".venv",
   "language": "python",
   "name": "python3"
  },
  "language_info": {
   "codemirror_mode": {
    "name": "ipython",
    "version": 3
   },
   "file_extension": ".py",
   "mimetype": "text/x-python",
   "name": "python",
   "nbconvert_exporter": "python",
   "pygments_lexer": "ipython3",
   "version": "3.9.6"
  }
 },
 "nbformat": 4,
 "nbformat_minor": 2
}
