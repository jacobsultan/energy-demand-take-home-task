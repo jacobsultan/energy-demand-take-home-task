{
 "cells": [
  {
   "cell_type": "code",
   "execution_count": 1,
   "metadata": {},
   "outputs": [],
   "source": [
    "from xgboost import XGBRegressor\n",
    "from sklearn.model_selection import RandomizedSearchCV\n",
    "import numpy as np\n",
    "import pandas as pd\n",
    "from sklearn.metrics import mean_absolute_error, mean_squared_error"
   ]
  },
  {
   "cell_type": "markdown",
   "metadata": {},
   "source": [
    "Here we're going to use randomized search to look for the best hyperparamters as it is faster than a gridsearch"
   ]
  },
  {
   "cell_type": "code",
   "execution_count": 2,
   "metadata": {},
   "outputs": [],
   "source": [
    "df_cyclic = pd.read_pickle('../data/fe_temp_cyclic_data.pkl')"
   ]
  },
  {
   "cell_type": "code",
   "execution_count": 3,
   "metadata": {},
   "outputs": [],
   "source": [
    "split_date = '2023-10-01'\n",
    "train_df = df_cyclic[df_cyclic['DateTime'] < split_date]\n",
    "test_df = df_cyclic[df_cyclic['DateTime'] >= split_date]\n",
    "\n",
    "X_train = train_df.drop(columns=['demand','DateTime','date','time'])\n",
    "y_train = train_df['demand']\n",
    "\n",
    "X_test = test_df.drop(columns=['demand','DateTime','date','time'])\n",
    "y_test = test_df['demand']"
   ]
  },
  {
   "cell_type": "code",
   "execution_count": null,
   "metadata": {},
   "outputs": [],
   "source": [
    "param_dist = {\n",
    "    'n_estimators': [100, 200, 300, 500],\n",
    "    'learning_rate': np.linspace(0.01, 0.2, 5),\n",
    "    'max_depth': np.arange(3, 10),\n",
    "    'subsample': [0.7, 0.8, 0.9, 1.0],\n",
    "    'colsample_bytree': [0.7, 0.8, 0.9, 1.0],\n",
    "    'gamma': [0, 0.1, 0.2, 0.3]\n",
    "}\n",
    "\n",
    "xgb_model = XGBRegressor()\n",
    "random_search = RandomizedSearchCV(estimator=xgb_model, param_distributions=param_dist, \n",
    "                                   n_iter=100, scoring='neg_mean_squared_error', cv=5, verbose=1)\n",
    "\n",
    "random_search.fit(X_train, y_train)\n",
    "best_params = random_search.best_params_\n",
    "print(f\"best parameters found: {best_params}\")\n",
    "\n",
    "best_xgb_model = random_search.best_estimator_\n",
    "y_pred = best_xgb_model.predict(X_test)\n",
    "\n",
    "rmse = np.sqrt(mean_squared_error(y_test, y_pred))\n",
    "mae = mean_absolute_error(y_test, y_pred)\n",
    "\n",
    "print(f\"rmse: {rmse}\")\n",
    "print(f\"mae: {mae}\")"
   ]
  },
  {
   "cell_type": "markdown",
   "metadata": {},
   "source": [
    "Fitting 5 folds for each of 100 candidates, totalling 500 fits\n",
    "Best parameters found: {'subsample': 0.8, 'n_estimators': 500, 'max_depth': 3, 'learning_rate': 0.0575, 'gamma': 0.3, 'colsample_bytree': 1.0}\n",
    "RMSE: 0.11890621521990276\n",
    "MAE: 0.0465065576229467"
   ]
  }
 ],
 "metadata": {
  "kernelspec": {
   "display_name": ".venv",
   "language": "python",
   "name": "python3"
  },
  "language_info": {
   "codemirror_mode": {
    "name": "ipython",
    "version": 3
   },
   "file_extension": ".py",
   "mimetype": "text/x-python",
   "name": "python",
   "nbconvert_exporter": "python",
   "pygments_lexer": "ipython3",
   "version": "3.9.6"
  }
 },
 "nbformat": 4,
 "nbformat_minor": 2
}
