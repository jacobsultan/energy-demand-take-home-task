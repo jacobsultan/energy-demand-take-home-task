{
 "cells": [
  {
   "cell_type": "markdown",
   "metadata": {},
   "source": [
    "# Data Exploration"
   ]
  },
  {
   "cell_type": "code",
   "execution_count": 1,
   "metadata": {},
   "outputs": [],
   "source": [
    "import pandas as pd\n",
    "import seaborn as sns\n",
    "import matplotlib.pyplot as plt\n"
   ]
  },
  {
   "cell_type": "code",
   "execution_count": null,
   "metadata": {},
   "outputs": [],
   "source": [
    "df = pd.read_csv(\"data/electricity_demand_data.csv\")\n",
    "df.head()"
   ]
  },
  {
   "cell_type": "markdown",
   "metadata": {},
   "source": [
    "To see what types of data "
   ]
  },
  {
   "cell_type": "code",
   "execution_count": null,
   "metadata": {},
   "outputs": [],
   "source": [
    "df.info()"
   ]
  },
  {
   "cell_type": "markdown",
   "metadata": {},
   "source": [
    "No missing data"
   ]
  },
  {
   "cell_type": "code",
   "execution_count": null,
   "metadata": {},
   "outputs": [],
   "source": [
    "df.isna().sum()"
   ]
  },
  {
   "cell_type": "markdown",
   "metadata": {},
   "source": [
    "Peak demand value"
   ]
  },
  {
   "cell_type": "code",
   "execution_count": null,
   "metadata": {},
   "outputs": [],
   "source": [
    "max(df.demand)"
   ]
  },
  {
   "cell_type": "code",
   "execution_count": null,
   "metadata": {},
   "outputs": [],
   "source": [
    "round(df.describe(),2)"
   ]
  },
  {
   "cell_type": "markdown",
   "metadata": {},
   "source": [
    "Below we can see that device_id, Postcode and property_category are constant throughout the dataset, so unless we can gather information helping our analysis from these single results, they are not useful for our modelling predictions\n"
   ]
  },
  {
   "cell_type": "code",
   "execution_count": null,
   "metadata": {},
   "outputs": [],
   "source": [
    "df.nunique()"
   ]
  },
  {
   "cell_type": "code",
   "execution_count": null,
   "metadata": {},
   "outputs": [],
   "source": [
    "print(f\"Date range of elecriticty demand available from - {df.loc[:,'DateTime'][0]} to {df.loc[:,'DateTime'][len(df) -1]}\")"
   ]
  },
  {
   "cell_type": "code",
   "execution_count": null,
   "metadata": {},
   "outputs": [],
   "source": [
    "df.demand.plot()"
   ]
  },
  {
   "cell_type": "markdown",
   "metadata": {},
   "source": [
    "Here we can see some outliers in the demand at certain points"
   ]
  },
  {
   "cell_type": "code",
   "execution_count": null,
   "metadata": {},
   "outputs": [],
   "source": [
    "df[df.demand > 4]"
   ]
  },
  {
   "cell_type": "markdown",
   "metadata": {},
   "source": [
    "With a quick google search of the news on that date we can see there are strikes in Germany strikes? 06:00 April 17-06:00 April 21\n",
    " The third largest strike took place on 20 April 2023:\n",
    "\n",
    "However these due to the magntitude of the demand at these peaks, I imagine it is more likely collection issues and regardless unhelpful for our modelling\n",
    " \n"
   ]
  },
  {
   "cell_type": "code",
   "execution_count": 11,
   "metadata": {},
   "outputs": [],
   "source": [
    "df['DateTime'] = pd.to_datetime(df['DateTime'])"
   ]
  },
  {
   "cell_type": "code",
   "execution_count": null,
   "metadata": {},
   "outputs": [],
   "source": [
    "df['minute'] = df['DateTime'].dt.minute\n",
    "df['hour'] = df['DateTime'].dt.hour\n",
    "df['year'] = df['DateTime'].dt.year\n",
    "df['month'] = df['DateTime'].dt.month\n",
    "df['date'] = df['DateTime'].dt.date\n",
    "df['weekday'] = df['DateTime'].dt.day_name()\n",
    "\n",
    "\n",
    "\n",
    "plt.figure(figsize=(10, 6))\n",
    "sns.countplot(y=\"minute\", data=df)\n",
    "plt.title(\"Distribution of demand recordings by minute\")\n",
    "plt.xlabel(\"Quantities of recordings\")\n",
    "plt.ylabel(\"Minute in hour\")\n",
    "plt.show()\n"
   ]
  },
  {
   "cell_type": "markdown",
   "metadata": {},
   "source": [
    "We can see that primarily recordings are made at 0,15,30,45 past the hour"
   ]
  },
  {
   "cell_type": "code",
   "execution_count": null,
   "metadata": {},
   "outputs": [],
   "source": [
    "minute_means = df.groupby('minute')['demand'].mean()\n",
    "\n",
    "plt.figure(figsize=(10, 6))\n",
    "plt.plot(minute_means.index, minute_means.values, marker='o', label='Mean Demand per Minute')\n",
    "plt.title('Mean Demand for each minute in hour recorded')\n",
    "plt.xlabel('Minute in hour')\n",
    "plt.ylabel('Mean Demand')\n",
    "plt.grid(True)\n",
    "plt.xticks(minute_means.index)\n",
    "plt.tight_layout()\n",
    "plt.show()"
   ]
  },
  {
   "cell_type": "markdown",
   "metadata": {},
   "source": [
    "And at these readings at 0,15,30,45 past the hour, demand is recorded to be higher, perhaps the readings not at those times are at a higher frequency, and so record lower demand"
   ]
  },
  {
   "cell_type": "code",
   "execution_count": null,
   "metadata": {},
   "outputs": [],
   "source": [
    "df[~df['minute'].isin([0, 15, 30,45])].year.value_counts()"
   ]
  },
  {
   "cell_type": "markdown",
   "metadata": {},
   "source": [
    "readings that aren't at 0,15,30,45 minutes past the hour seem to only occur from 2023 onwards"
   ]
  },
  {
   "cell_type": "code",
   "execution_count": null,
   "metadata": {},
   "outputs": [],
   "source": [
    "df_2023 = df[(df.year == 2023) & (df.month == 10)]\n",
    "minute_means = df_2023.groupby('minute')['demand'].mean()\n",
    "\n",
    "plt.figure(figsize=(10, 6))\n",
    "plt.plot(minute_means.index, minute_means.values, marker='o', label='Mean Demand per Minute')\n",
    "plt.title('Mean Demand for Each Minute')\n",
    "plt.xlabel('Minute')\n",
    "plt.ylabel('Mean Demand')\n",
    "plt.grid(True)\n",
    "plt.xticks(minute_means.index)\n",
    "plt.show()"
   ]
  },
  {
   "cell_type": "markdown",
   "metadata": {},
   "source": [
    "And in this plot we can see the discrepency between 0,15,30,45 minutes past the hour and other time readings is smaller, the mean demand at those times are lower than in previous years when off those times weren't recorded"
   ]
  },
  {
   "cell_type": "code",
   "execution_count": null,
   "metadata": {},
   "outputs": [],
   "source": [
    "df['date'] = pd.to_datetime(df['date'])\n",
    "readings_per_day = df.groupby('date').size().reset_index(name='readings')\n",
    "readings_per_day['day_of_week'] = readings_per_day['date'].dt.dayofweek\n",
    "avg_readings_per_day = readings_per_day.groupby('day_of_week')['readings'].mean().reset_index()\n",
    "\n",
    "plt.figure(figsize=(8,6))\n",
    "plt.bar(avg_readings_per_day['day_of_week'], avg_readings_per_day['readings'])\n",
    "plt.ylabel('Average Number of Readings')\n",
    "plt.title('Average Number of Readings Per Day of the Week')\n",
    "plt.xticks(ticks=range(7), labels=['Monday', 'Tuesday', 'Wednesday', 'Thursday', 'Friday', 'Saturday', 'Sunday'])\n",
    "plt.show()"
   ]
  },
  {
   "cell_type": "markdown",
   "metadata": {},
   "source": [
    "readings per day remain pretty constant"
   ]
  },
  {
   "cell_type": "code",
   "execution_count": null,
   "metadata": {},
   "outputs": [],
   "source": [
    "df['date'] = pd.to_datetime(df['date'])\n",
    "readings_per_day = df.groupby('date').size().reset_index(name='readings')\n",
    "readings_per_day['month'] = readings_per_day['date'].dt.month\n",
    "avg_readings_per_month = readings_per_day.groupby('month')['readings'].mean().reset_index()\n",
    "\n",
    "plt.figure(figsize=(8,6))\n",
    "plt.bar(avg_readings_per_month['month'], avg_readings_per_month['readings'])\n",
    "plt.xlabel('Month')\n",
    "plt.ylabel('Average Number of Readings')\n",
    "plt.title('Average Number of Readings Per Month')\n",
    "plt.xticks(ticks=range(1, 13), labels=['Jan', 'Feb', 'Mar', 'Apr', 'May', 'Jun', 'Jul', 'Aug', 'Sep', 'Oct', 'Nov', 'Dec'])\n",
    "plt.show()"
   ]
  },
  {
   "cell_type": "markdown",
   "metadata": {},
   "source": [
    "But readings per month dips a little in the summer months"
   ]
  },
  {
   "cell_type": "code",
   "execution_count": null,
   "metadata": {},
   "outputs": [],
   "source": [
    "\n",
    "df_cut = df[df.date < '2023-09-01']\n",
    "df_cut['date'] = pd.to_datetime(df_cut['date'])\n",
    "readings_per_day = df_cut.groupby('date').size().reset_index(name='readings')\n",
    "readings_per_day['month'] = readings_per_day['date'].dt.month\n",
    "avg_readings_per_month = readings_per_day.groupby('month')['readings'].mean().reset_index()\n",
    "\n",
    "plt.figure(figsize=(8,6))\n",
    "plt.bar(avg_readings_per_month['month'], avg_readings_per_month['readings'])\n",
    "plt.xlabel('Month')\n",
    "plt.ylabel('Average Number of Readings')\n",
    "plt.title('Average Number of Readings Per Month pre september 2023')\n",
    "plt.xticks(ticks=range(1, 13), labels=['Jan', 'Feb', 'Mar', 'Apr', 'May', 'Jun', 'Jul', 'Aug', 'Sep', 'Oct', 'Nov', 'Dec'])\n",
    "plt.show()"
   ]
  },
  {
   "cell_type": "markdown",
   "metadata": {},
   "source": [
    "Here we check to see if the shape of readings per month was changed because only in the last few months of the data did we see a higher frequency of readings per hour"
   ]
  },
  {
   "cell_type": "code",
   "execution_count": null,
   "metadata": {},
   "outputs": [],
   "source": [
    "\n",
    "df['date'] = pd.to_datetime(df['date'])\n",
    "readings_per_day = df.groupby('date').size().reset_index(name='readings')\n",
    "readings_per_day['year_month'] = readings_per_day['date'].dt.to_period('M')  # 'YYYY-MM' format\n",
    "avg_readings_per_month = readings_per_day.groupby('year_month')['readings'].mean().reset_index()\n",
    "avg_readings_per_month['year_month'] = avg_readings_per_month['year_month'].dt.to_timestamp()\n",
    "\n",
    "plt.figure(figsize=(12,6))\n",
    "plt.plot(avg_readings_per_month['year_month'], avg_readings_per_month['readings'], marker='o')\n",
    "plt.xlabel('Year and Month')\n",
    "plt.ylabel('Average Number of Readings per Day')\n",
    "plt.title('Average Number of Readings Per Day for Each Month Over 3 Years')\n",
    "plt.xticks(rotation=45)\n",
    "plt.grid(True)\n",
    "plt.tight_layout()\n",
    "plt.show()"
   ]
  },
  {
   "cell_type": "code",
   "execution_count": null,
   "metadata": {},
   "outputs": [],
   "source": [
    "df.nunique()"
   ]
  },
  {
   "cell_type": "markdown",
   "metadata": {},
   "source": [
    "Below we have removed our few anomalies in the demand column to make the rest of the data more digestible "
   ]
  },
  {
   "cell_type": "code",
   "execution_count": 21,
   "metadata": {},
   "outputs": [],
   "source": [
    "df = df[df['demand'] < 4]"
   ]
  },
  {
   "cell_type": "code",
   "execution_count": null,
   "metadata": {},
   "outputs": [],
   "source": [
    "fig, ax = plt.subplots(figsize = (10,8))\n",
    "sns.boxplot(data = df, x = 'hour', y = 'demand' )\n",
    "ax.set_title('demand by hour')\n",
    "plt.show()"
   ]
  },
  {
   "cell_type": "markdown",
   "metadata": {},
   "source": [
    "The mean reading by hour remains much lower than a lot of the readings, with a higher deviation around midday, suggesting lots of low usages and more peaks around midday"
   ]
  },
  {
   "cell_type": "code",
   "execution_count": null,
   "metadata": {},
   "outputs": [],
   "source": [
    "fig, ax = plt.subplots(figsize = (10,8))\n",
    "sns.boxplot(data = df, x = 'month', y = 'demand' )\n",
    "ax.set_title('demand by month')\n",
    "plt.show()"
   ]
  },
  {
   "cell_type": "code",
   "execution_count": null,
   "metadata": {},
   "outputs": [],
   "source": [
    "fig, ax = plt.subplots(figsize = (10,8))\n",
    "sns.boxplot(data = df, x = 'weekday', y = 'demand' )\n",
    "ax.set_title('demand by day of week')\n",
    "plt.show()"
   ]
  }
 ],
 "metadata": {
  "kernelspec": {
   "display_name": ".venv",
   "language": "python",
   "name": "python3"
  },
  "language_info": {
   "codemirror_mode": {
    "name": "ipython",
    "version": 3
   },
   "file_extension": ".py",
   "mimetype": "text/x-python",
   "name": "python",
   "nbconvert_exporter": "python",
   "pygments_lexer": "ipython3",
   "version": "3.9.6"
  }
 },
 "nbformat": 4,
 "nbformat_minor": 2
}
